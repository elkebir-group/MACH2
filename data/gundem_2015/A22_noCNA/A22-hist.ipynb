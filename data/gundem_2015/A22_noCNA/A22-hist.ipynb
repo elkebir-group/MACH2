{
 "cells": [
  {
   "cell_type": "code",
   "execution_count": 53,
   "metadata": {
    "collapsed": false
   },
   "outputs": [],
   "source": [
    "%matplotlib inline\n",
    "import sys\n",
    "import pandas as pd\n",
    "import seaborn as sns\n",
    "import matplotlib.pyplot as plt\n",
    "import numpy as np"
   ]
  },
  {
   "cell_type": "code",
   "execution_count": 74,
   "metadata": {
    "collapsed": false
   },
   "outputs": [
    {
     "data": {
      "text/plain": [
       "0    20\n",
       "1    23\n",
       "2    43\n",
       "3    20\n",
       "4    10\n",
       "5     2\n",
       "Name: locus, dtype: int64"
      ]
     },
     "execution_count": 74,
     "metadata": {},
     "output_type": "execute_result"
    }
   ],
   "source": [
    "df = pd.read_csv(\"count.txt\", sep=\" \")\n",
    "cnt = df.groupby('count').count().reset_index()\n",
    "cnt['locus']"
   ]
  },
  {
   "cell_type": "code",
   "execution_count": 70,
   "metadata": {
    "collapsed": false
   },
   "outputs": [],
   "source": [
    "from seaborn.categorical import _CategoricalPlotter, remove_na\n",
    "import matplotlib as mpl\n",
    "\n",
    "class _CategoricalStatPlotter(_CategoricalPlotter):\n",
    "\n",
    "    @property\n",
    "    def nested_width(self):\n",
    "        \"\"\"A float with the width of plot elements when hue nesting is used.\"\"\"\n",
    "        return self.width / len(self.hue_names)\n",
    "\n",
    "    def estimate_statistic(self, estimator, ci, n_boot):\n",
    "\n",
    "        if self.hue_names is None:\n",
    "            statistic = []\n",
    "            confint = []\n",
    "        else:\n",
    "            statistic = [[] for _ in self.plot_data]\n",
    "            confint = [[] for _ in self.plot_data]\n",
    "\n",
    "        for i, group_data in enumerate(self.plot_data):\n",
    "            # Option 1: we have a single layer of grouping\n",
    "            # --------------------------------------------\n",
    "\n",
    "            if self.plot_hues is None:\n",
    "\n",
    "                if self.plot_units is None:\n",
    "                    stat_data = remove_na(group_data)\n",
    "                    unit_data = None\n",
    "                else:\n",
    "                    unit_data = self.plot_units[i]\n",
    "                    have = pd.notnull(np.c_[group_data, unit_data]).all(axis=1)\n",
    "                    stat_data = group_data[have]\n",
    "                    unit_data = unit_data[have]\n",
    "\n",
    "                # Estimate a statistic from the vector of data\n",
    "                if not stat_data.size:\n",
    "                    statistic.append(np.nan)\n",
    "                else:\n",
    "                    statistic.append(estimator(stat_data, len(np.concatenate(self.plot_data))))\n",
    "\n",
    "                # Get a confidence interval for this estimate\n",
    "                if ci is not None:\n",
    "\n",
    "                    if stat_data.size < 2:\n",
    "                        confint.append([np.nan, np.nan])\n",
    "                        continue\n",
    "\n",
    "                    boots = bootstrap(stat_data, func=estimator,\n",
    "                                      n_boot=n_boot,\n",
    "                                      units=unit_data)\n",
    "                    confint.append(utils.ci(boots, ci))\n",
    "\n",
    "            # Option 2: we are grouping by a hue layer\n",
    "            # ----------------------------------------\n",
    "\n",
    "            else:\n",
    "                for j, hue_level in enumerate(self.hue_names):\n",
    "                    if not self.plot_hues[i].size:\n",
    "                        statistic[i].append(np.nan)\n",
    "                        if ci is not None:\n",
    "                            confint[i].append((np.nan, np.nan))\n",
    "                        continue\n",
    "\n",
    "                    hue_mask = self.plot_hues[i] == hue_level\n",
    "                    group_total_n = (np.concatenate(self.plot_hues) == hue_level).sum()\n",
    "                    if self.plot_units is None:\n",
    "                        stat_data = remove_na(group_data[hue_mask])\n",
    "                        unit_data = None\n",
    "                    else:\n",
    "                        group_units = self.plot_units[i]\n",
    "                        have = pd.notnull(\n",
    "                            np.c_[group_data, group_units]\n",
    "                            ).all(axis=1)\n",
    "                        stat_data = group_data[hue_mask & have]\n",
    "                        unit_data = group_units[hue_mask & have]\n",
    "\n",
    "                    # Estimate a statistic from the vector of data\n",
    "                    if not stat_data.size:\n",
    "                        statistic[i].append(np.nan)\n",
    "                    else:\n",
    "                        statistic[i].append(estimator(stat_data, group_total_n))\n",
    "\n",
    "                    # Get a confidence interval for this estimate\n",
    "                    if ci is not None:\n",
    "\n",
    "                        if stat_data.size < 2:\n",
    "                            confint[i].append([np.nan, np.nan])\n",
    "                            continue\n",
    "\n",
    "                        boots = bootstrap(stat_data, func=estimator,\n",
    "                                          n_boot=n_boot,\n",
    "                                          units=unit_data)\n",
    "                        confint[i].append(utils.ci(boots, ci))\n",
    "\n",
    "        # Save the resulting values for plotting\n",
    "        self.statistic = np.array(statistic)\n",
    "        self.confint = np.array(confint)\n",
    "\n",
    "        # Rename the value label to reflect the estimation\n",
    "        if self.value_label is not None:\n",
    "            self.value_label = \"{}({})\".format(estimator.__name__,\n",
    "                                               self.value_label)\n",
    "\n",
    "    def draw_confints(self, ax, at_group, confint, colors,\n",
    "                      errwidth=None, capsize=None, **kws):\n",
    "\n",
    "        if errwidth is not None:\n",
    "            kws.setdefault(\"lw\", errwidth)\n",
    "        else:\n",
    "            kws.setdefault(\"lw\", mpl.rcParams[\"lines.linewidth\"] * 1.8)\n",
    "\n",
    "        for at, (ci_low, ci_high), color in zip(at_group,\n",
    "                                                confint,\n",
    "                                                colors):\n",
    "            if self.orient == \"v\":\n",
    "                ax.plot([at, at], [ci_low, ci_high], color=color, **kws)\n",
    "                if capsize is not None:\n",
    "                    ax.plot([at - capsize / 2, at + capsize / 2],\n",
    "                            [ci_low, ci_low], color=color, **kws)\n",
    "                    ax.plot([at - capsize / 2, at + capsize / 2],\n",
    "                            [ci_high, ci_high], color=color, **kws)\n",
    "            else:\n",
    "                ax.plot([ci_low, ci_high], [at, at], color=color, **kws)\n",
    "                if capsize is not None:\n",
    "                    ax.plot([ci_low, ci_low],\n",
    "                            [at - capsize / 2, at + capsize / 2],\n",
    "                            color=color, **kws)\n",
    "                    ax.plot([ci_high, ci_high],\n",
    "                            [at - capsize / 2, at + capsize / 2],\n",
    "                            color=color, **kws)\n",
    "\n",
    "class _BarPlotter(_CategoricalStatPlotter):\n",
    "    \"\"\"Show point estimates and confidence intervals with bars.\"\"\"\n",
    "\n",
    "    def __init__(self, x, y, hue, data, order, hue_order,\n",
    "                 estimator, ci, n_boot, units,\n",
    "                 orient, color, palette, saturation, errcolor, errwidth=None,\n",
    "                 capsize=None):\n",
    "        \"\"\"Initialize the plotter.\"\"\"\n",
    "        self.establish_variables(x, y, hue, data, orient,\n",
    "                                 order, hue_order, units)\n",
    "        self.establish_colors(color, palette, saturation)\n",
    "        self.estimate_statistic(estimator, ci, n_boot)\n",
    "\n",
    "        self.errcolor = errcolor\n",
    "        self.errwidth = errwidth\n",
    "        self.capsize = capsize\n",
    "\n",
    "    def draw_bars(self, ax, kws):\n",
    "        \"\"\"Draw the bars onto `ax`.\"\"\"\n",
    "        # Get the right matplotlib function depending on the orientation\n",
    "        barfunc = ax.bar if self.orient == \"v\" else ax.barh\n",
    "        barpos = np.arange(len(self.statistic))\n",
    "\n",
    "        if self.plot_hues is None:\n",
    "\n",
    "            # Draw the bars\n",
    "            barfunc(barpos, self.statistic, self.width,\n",
    "                    color=self.colors, align=\"center\", **kws)\n",
    "\n",
    "            # Draw the confidence intervals\n",
    "            errcolors = [self.errcolor] * len(barpos)\n",
    "            self.draw_confints(ax,\n",
    "                               barpos,\n",
    "                               self.confint,\n",
    "                               errcolors,\n",
    "                               self.errwidth,\n",
    "                               self.capsize)\n",
    "\n",
    "        else:\n",
    "\n",
    "            for j, hue_level in enumerate(self.hue_names):\n",
    "\n",
    "                # Draw the bars\n",
    "                offpos = barpos + self.hue_offsets[j]\n",
    "                barfunc(offpos, self.statistic[:, j], self.nested_width,\n",
    "                        color=self.colors[j], align=\"center\",\n",
    "                        label=hue_level, **kws)\n",
    "\n",
    "                # Draw the confidence intervals\n",
    "                if self.confint.size:\n",
    "                    confint = self.confint[:, j]\n",
    "                    errcolors = [self.errcolor] * len(offpos)\n",
    "                    self.draw_confints(ax,\n",
    "                                       offpos,\n",
    "                                       confint,\n",
    "                                       errcolors,\n",
    "                                       self.errwidth,\n",
    "                                       self.capsize)\n",
    "\n",
    "    def plot(self, ax, bar_kws):\n",
    "        \"\"\"Make the plot.\"\"\"\n",
    "        self.draw_bars(ax, bar_kws)\n",
    "        self.annotate_axes(ax)\n",
    "        if self.orient == \"h\":\n",
    "            ax.invert_yaxis()\n",
    "\n",
    "def percentageplot(x=None, y=None, hue=None, data=None, order=None, hue_order=None,\n",
    "              orient=None, color=None, palette=None, saturation=.75,\n",
    "              ax=None, **kwargs):\n",
    "\n",
    "    # Estimator calculates required statistic (proportion)        \n",
    "    estimator = lambda x, y: (float(len(x))/y)*100 \n",
    "    ci = None\n",
    "    n_boot = 0\n",
    "    units = None\n",
    "    errcolor = None\n",
    "\n",
    "    if x is None and y is not None:\n",
    "        orient = \"h\"\n",
    "        x = y\n",
    "    elif y is None and x is not None:\n",
    "        orient = \"v\"\n",
    "        y = x\n",
    "    elif x is not None and y is not None:\n",
    "        raise TypeError(\"Cannot pass values for both `x` and `y`\")\n",
    "    else:\n",
    "        raise TypeError(\"Must pass values for either `x` or `y`\")\n",
    "\n",
    "    plotter = _BarPlotter(x, y, hue, data, order, hue_order,\n",
    "                          estimator, ci, n_boot, units,\n",
    "                          orient, color, palette, saturation,\n",
    "                          errcolor)\n",
    "\n",
    "    plotter.value_label = \"Percentage\"\n",
    "\n",
    "    if ax is None:\n",
    "        ax = plt.gca()\n",
    "\n",
    "    plotter.plot(ax, kwargs)\n",
    "    return ax"
   ]
  },
  {
   "cell_type": "code",
   "execution_count": 71,
   "metadata": {
    "collapsed": false
   },
   "outputs": [
    {
     "data": {
      "image/png": "[encoded data removed]",
      "text/plain": [
       "<matplotlib.figure.Figure at 0x11e7cbdd0>"
      ]
     },
     "metadata": {},
     "output_type": "display_data"
    }
   ],
   "source": [
    "ax = percentageplot(df['count'])\n",
    "ax.set_xlabel('#distinct copy number calls per SNV')\n",
    "ax.set_ylabel('percentage')\n",
    "plt.savefig(\"A22_CNAs.pdf\")"
   ]
  },
  {
   "cell_type": "code",
   "execution_count": 78,
   "metadata": {
    "collapsed": false
   },
   "outputs": [
    {
     "data": {
      "image/png": "[encoded data removed]",
      "text/plain": [
       "<matplotlib.figure.Figure at 0x11f81f5d0>"
      ]
     },
     "metadata": {},
     "output_type": "display_data"
    }
   ],
   "source": [
    "ax = sns.countplot(df['count'])\n",
    "ax.set_xlabel('#distinct copy number calls per SNV')\n",
    "ax.set_ylabel('count')\n",
    "plt.savefig(\"A22_CNAs.pdf\")"
   ]
  },
  {
   "cell_type": "code",
   "execution_count": 26,
   "metadata": {
    "collapsed": false
   },
   "outputs": [
    {
     "data": {
      "text/plain": [
       "([<matplotlib.axis.XTick at 0x11c5ba6d0>,\n",
       "  <matplotlib.axis.XTick at 0x11c1d1cd0>,\n",
       "  <matplotlib.axis.XTick at 0x11c49e210>,\n",
       "  <matplotlib.axis.XTick at 0x11c6c1810>],\n",
       " <a list of 4 Text xticklabel objects>)"
      ]
     },
     "execution_count": 26,
     "metadata": {},
     "output_type": "execute_result"
    },
    {
     "data": {
      "image/png": "[encoded data removed]",
      "text/plain": [
       "<matplotlib.figure.Figure at 0x11c49edd0>"
      ]
     },
     "metadata": {},
     "output_type": "display_data"
    }
   ],
   "source": [
    "matplotlib.pyplot.hist(df['count'], bins=np.linspace(1.5, 5.5, 9))\n",
    "matplotlib.pyplot.xticks([2,3,4,5])"
   ]
  },
  {
   "cell_type": "code",
   "execution_count": null,
   "metadata": {
    "collapsed": true
   },
   "outputs": [],
   "source": []
  }
 ],
 "metadata": {
  "kernelspec": {
   "display_name": "Python 2",
   "language": "python",
   "name": "python2"
  },
  "language_info": {
   "codemirror_mode": {
    "name": "ipython",
    "version": 2
   },
   "file_extension": ".py",
   "mimetype": "text/x-python",
   "name": "python",
   "nbconvert_exporter": "python",
   "pygments_lexer": "ipython2",
   "version": "2.7.12"
  }
 },
 "nbformat": 4,
 "nbformat_minor": 0
}
